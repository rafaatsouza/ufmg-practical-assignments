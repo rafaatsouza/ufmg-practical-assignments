{
 "cells": [
  {
   "cell_type": "code",
   "execution_count": 1,
   "metadata": {},
   "outputs": [],
   "source": [
    "import numpy as np\n",
    "import pandas as pd\n",
    "from sklearn.model_selection import cross_val_score\n",
    "from sklearn.naive_bayes import GaussianNB\n",
    "from sklearn.model_selection import GridSearchCV\n",
    "from sklearn import tree\n",
    "from sklearn.metrics import confusion_matrix\n",
    "import warnings\n",
    "\n",
    "warnings.simplefilter(action='ignore', category=FutureWarning)\n",
    "np.random.seed(1000)\n",
    "testSize = 0.7\n",
    "folds = 5\n",
    "\n",
    "class DataSet:\n",
    "    def __init__(self, dataSet, ignoreColumns, testSize):\n",
    "        self.labels = {'full': None, 'train': None, 'test': None}\n",
    "        self.examples = {'full': None, 'train': None, 'test': None}\n",
    "\n",
    "        self.examples['full'] = (pd.read_csv(dataSet)).drop(columns=ignoreColumns)\n",
    "        self.labels['full'] = (self.examples['full']['koi_disposition']).replace(['FALSE POSITIVE', 'CONFIRMED'], [0,1])\n",
    "        self.examples['full'] = self.examples['full'].drop(columns=['koi_disposition'])\n",
    "        \n",
    "        msk = np.random.rand(len(self.examples['full'])) < testSize\n",
    "        self.examples['train'] = self.examples['full'][msk]\n",
    "        self.examples['test'] = self.examples['full'][~msk]\n",
    "        self.labels['train'] = self.labels['full'][msk]\n",
    "        self.labels['test'] = self.labels['full'][~msk]\n",
    "        \n",
    "def naiveBayes(df, output, folds):\n",
    "    model = GaussianNB()\n",
    "    return cross_val_score(model, df, output, cv=folds)\n",
    "\n",
    "def decisionTree(df, output, trainExamples, trainLabels, maxDepth, folds):\n",
    "    parameters = {'max_depth':maxDepth}\n",
    "    \n",
    "    model = GridSearchCV(tree.DecisionTreeClassifier(), parameters)\n",
    "    model = model.fit(trainExamples, trainLabels)\n",
    "\n",
    "    return cross_val_score(model, df, output, cv=folds)"
   ]
  },
  {
   "cell_type": "code",
   "execution_count": 2,
   "metadata": {},
   "outputs": [],
   "source": [
    "ds = DataSet('dataset.csv', ['kepoi_name'], testSize)"
   ]
  },
  {
   "cell_type": "code",
   "execution_count": 3,
   "metadata": {
    "scrolled": true
   },
   "outputs": [
    {
     "data": {
      "text/plain": [
       "array([0.75600384, 0.74639769, 0.82420749, 0.86923077, 0.82098171])"
      ]
     },
     "execution_count": 3,
     "metadata": {},
     "output_type": "execute_result"
    }
   ],
   "source": [
    "naiveBayesScore = naiveBayes(ds.examples['full'], ds.labels['full'], folds)\n",
    "naiveBayesScore"
   ]
  },
  {
   "cell_type": "code",
   "execution_count": 4,
   "metadata": {},
   "outputs": [
    {
     "data": {
      "text/plain": [
       "array([0.92987512, 0.95100865, 0.96061479, 0.96153846, 0.90856593])"
      ]
     },
     "execution_count": 4,
     "metadata": {},
     "output_type": "execute_result"
    }
   ],
   "source": [
    "decisionTreeScore = decisionTree(ds.examples['full'], ds.labels['full'], ds.examples['train'], \n",
    "                                 ds.labels['train'], range(3,20), folds)\n",
    "decisionTreeScore"
   ]
  },
  {
   "cell_type": "code",
   "execution_count": null,
   "metadata": {},
   "outputs": [],
   "source": []
  }
 ],
 "metadata": {
  "kernelspec": {
   "display_name": "Python 3",
   "language": "python",
   "name": "python3"
  },
  "language_info": {
   "codemirror_mode": {
    "name": "ipython",
    "version": 3
   },
   "file_extension": ".py",
   "mimetype": "text/x-python",
   "name": "python",
   "nbconvert_exporter": "python",
   "pygments_lexer": "ipython3",
   "version": "3.6.7"
  }
 },
 "nbformat": 4,
 "nbformat_minor": 2
}
