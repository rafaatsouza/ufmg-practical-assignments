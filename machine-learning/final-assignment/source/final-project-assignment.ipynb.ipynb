{
 "cells": [
  {
   "cell_type": "markdown",
   "metadata": {
    "colab_type": "text",
    "id": "6n3sl24A5D7w"
   },
   "source": [
    "# Projeto Final - Machine Learning\n",
    "## Rafael Torres Souza\n",
    "\n",
    "Aplicativos de mensageria já há certo tempo se mostram como plataforma onde a proliferação de _spams_ é algo comum, e em especial, mensagens de mídia (imagens, vídeos, áudios, etc.) circulam como _spams_. Esse trabalho se propõe à avaliar o uso de uma rede convolucional para predizer se determinada imagem é ou não ou _spams_, utilizando _data augmentation_.\n",
    "\n",
    "Os principais resultados estão presentes na documentação também enviada; este _notebook_ está sendo enviado como uma amostra de como obter os mesmos resultados presentes na documentação, mas é um tanto quanto inviável exibir as mesmas informações aqui, por conta do tempo necessário para execução."
   ]
  },
  {
   "cell_type": "markdown",
   "metadata": {
    "colab_type": "text",
    "id": "vZmRzoDe5D7x"
   },
   "source": [
    "### Dados utilizados\n",
    "Os dados utilizados para construção dessa rede se dividem em: Exemplos de imagens consideradas como _spam_ (que representam a classe que se deseja reconhecer), e imagens que não sejam consideradas como _spam_.\n",
    "Para o primeiro grupo, a coleta foi feita de forma manual; imagens dessa natureza foram armazenadas em aplicativos de mensageria para integrar o _dataset_ do trabalho. Já para o segundo grupo, foram utilizadas imagens do _dataset_ público _Open Images_:<br><br>\n",
    "\n",
    "`Open Images is a dataset of ~9M images annotated with image-level labels, object bounding boxes, object segmentation masks, and visual relationships. It contains a total of 16M bounding boxes for 600 object classes on 1.9M images, making it the largest existing dataset with object location annotations.`\n",
    "<br><br>\n",
    "Por limitação das imagens encontradas para o primeiro grupo, o _dataset_ do trabalho é composto por 530 imagens não-consideradas _spam_, e 530 imagens consideradas _spam_.\n",
    "<br><br>\n",
    "\n",
    "O _dataset_ construido encontra-se no repositório abaixo; para utilizar, basta clonar:"
   ]
  },
  {
   "cell_type": "code",
   "execution_count": 1,
   "metadata": {
    "colab": {
     "base_uri": "https://localhost:8080/",
     "height": 136
    },
    "colab_type": "code",
    "id": "VBpwYdr0EDvu",
    "outputId": "db67db32-f0f2-46e7-d1fc-3fa616147809"
   },
   "outputs": [
    {
     "name": "stdout",
     "output_type": "stream",
     "text": [
      "Cloning into 'ml_project_dataset'...\n",
      "remote: Enumerating objects: 5834, done.\u001b[K\n",
      "remote: Counting objects: 100% (5834/5834), done.\u001b[K\n",
      "remote: Compressing objects: 100% (5832/5832), done.\u001b[K\n",
      "remote: Total 5834 (delta 0), reused 5831 (delta 0), pack-reused 0\u001b[K\n",
      "Receiving objects: 100% (5834/5834), 557.67 MiB | 37.71 MiB/s, done.\n",
      "Checking out files: 100% (5831/5831), done.\n"
     ]
    }
   ],
   "source": [
    "! git clone https://github.com/rafaatsouza/ml_project_dataset.git"
   ]
  },
  {
   "cell_type": "markdown",
   "metadata": {
    "colab_type": "text",
    "id": "PYBTWBQv5D76"
   },
   "source": [
    "### Implementação\n",
    "Foi escolhida uma rede neural convolucional para esse trabalho, pela necessidade de convolucionar os dados de entrada, que possuem uma dimensionalidade grande e ao final receber um dado único - a classe de uma determinada imagem (no caso, _spam_ ou não). Uma rede neural recorrente não se aplicaria, pela não necessidade de manter um contexto temporal na rede.\n",
    "\n",
    "#### Algoritmos Utilizados\n",
    "Pela pequena quantidade de dados disponíveis para o trabalho, foi utilizado _Data Augmentation_ à partir do _dataset_ construído. Conjunto de treino contou com algumas variações possíveis dessa técnica além do redimensionamento, variação que também foi utilizada nos conjuntos de teste e validação, para garantir que todos os dados estivessem com o tamanho padronizado.\n",
    "<br><br>\n",
    "O primeiro passo para iniciar os experimentos é realizar os _imports_ e declarar as constantes:"
   ]
  },
  {
   "cell_type": "code",
   "execution_count": 2,
   "metadata": {
    "colab": {
     "base_uri": "https://localhost:8080/",
     "height": 34
    },
    "colab_type": "code",
    "id": "0QkE3Bsd5D77",
    "outputId": "2fe2c257-f572-4225-f00d-765c57ff9835"
   },
   "outputs": [
    {
     "name": "stderr",
     "output_type": "stream",
     "text": [
      "Using TensorFlow backend.\n"
     ]
    }
   ],
   "source": [
    "import matplotlib.pyplot as plt\n",
    "import tensorflow as tf\n",
    "import pandas as pd\n",
    "import numpy as np\n",
    "import cv2\n",
    "import sys\n",
    "import os\n",
    "\n",
    "from keras.layers import Convolution2D, Conv2D, MaxPooling2D, Flatten, Dense, Dropout\n",
    "from keras.preprocessing.image import ImageDataGenerator\n",
    "from keras.models import Sequential\n",
    "from sklearn.utils import shuffle\n",
    "from matplotlib import gridspec\n",
    "from sklearn import metrics\n",
    "from PIL import Image\n",
    "\n",
    "SPAM_FOLDER = 'ml_project_dataset/spam/'\n",
    "NOT_SPAM_FOLDER = 'ml_project_dataset/not_spam/'\n",
    "BATCH_SIZE = 32\n",
    "FOLDS_COUNT = 5\n",
    "EPOCHS = [10,20,30,40,50,60,70,80,90]\n",
    "NOT_SPAM_PROPORTION = [1,2,3,4]\n",
    "\n",
    "tf.logging.set_verbosity(tf.logging.ERROR)"
   ]
  },
  {
   "cell_type": "markdown",
   "metadata": {
    "colab_type": "text",
    "id": "hq56LnQX5D8B"
   },
   "source": [
    "Tendo feito isso, iremos declarar as classes utilizados. Primeiro, a classe _DataSet_; Ela é responsável por organizar as imagens vindas do repositório em uma estrutura de dados já agrupados em _folds_ (para implementação de _K-Fold Cross Validation_) tanto para implementações que usem _Data Augmentation_ quanto para implementações que não usem. \n",
    "<br>\n",
    "Valores específicos para a utilização de _Data Augmentation_ como _shear range_ e _zoom range_ estão fixos nesta classe, mas foram obtidos após vários testes durante o projeto, mas de forma \"improvisada\"."
   ]
  },
  {
   "cell_type": "code",
   "execution_count": 0,
   "metadata": {
    "colab": {},
    "colab_type": "code",
    "id": "E1Uu1NQGQIna"
   },
   "outputs": [],
   "source": [
    "class DataSet:\n",
    "    def __init__(self, spamFolderPath, notSpamFolderPath, notSpamProportion):\n",
    "        self.df = shuffle(self.GetDataFrame(spamFolderPath, notSpamFolderPath, notSpamProportion))\n",
    "        \n",
    "    def GetDataFrame(self, spamFolderPath, notSpamFolderPath, notSpamProportion):\n",
    "        data = []\n",
    "        spamCount = 0\n",
    "        notSpamCount = 0\n",
    "        for filename in os.listdir(spamFolderPath):\n",
    "            data.append(['{}{}'.format(spamFolderPath,filename), '1'])\n",
    "            spamCount += 1\n",
    "        for filename in os.listdir(notSpamFolderPath):\n",
    "            if(notSpamCount >= (spamCount * notSpamProportion)):\n",
    "                break\n",
    "            data.append(['{}{}'.format(notSpamFolderPath,filename), '0'])\n",
    "            notSpamCount += 1\n",
    "        print('Dataframe filled with {} images labelled as \"not_spam\" and {} images labelled \"spam\"'.format(notSpamCount, spamCount))\n",
    "        return pd.DataFrame(data, columns = ['id', 'label'])\n",
    "\n",
    "    def GetEqualDataFrameFolds(self, df, foldsCount):\n",
    "        foldSize = round(df.shape[0] / foldsCount)\n",
    "        folds = [df[x:x+foldSize] for x in range(0, df.shape[0], foldSize)]\n",
    "        if(len(folds) > foldsCount):\n",
    "            lastPart = folds.pop()\n",
    "            folds[-1] = folds[-1].append(lastPart)\n",
    "            del lastPart\n",
    "        del foldSize\n",
    "        return folds\n",
    "\n",
    "    def GetFolds(self, foldsCount):\n",
    "        folds = self.GetEqualDataFrameFolds(self.df, foldsCount)\n",
    "\n",
    "        kfolds = []\n",
    "        for i in range(0, foldsCount):\n",
    "            kfolds.append({ 'trainData': [], 'trainLabel': [], 'validationData': [], 'validationLabel': [] })\n",
    "\n",
    "            trainDf = None\n",
    "            validationDf = folds[i]\n",
    "\n",
    "            for j in [x for x in range(0, foldsCount) if x!=i]:\n",
    "                if(trainDf is None):\n",
    "                    trainDf = folds[j]\n",
    "                else:\n",
    "                    trainDf = trainDf.append(folds[j])\n",
    "\n",
    "            for index, row in trainDf.head().iterrows():\n",
    "                kfolds[i]['trainData'].append(self.GetImageNumpyArray(row['id']))\n",
    "                kfolds[i]['trainLabel'].append(int(row['label']))\n",
    "\n",
    "            kfolds[i]['trainData'] = (np.array(kfolds[i]['trainData'])).astype('float32')/255\n",
    "            kfolds[i]['trainLabel'] = np.array(kfolds[i]['trainLabel'])\n",
    "\n",
    "            for index, row in validationDf.head().iterrows():\n",
    "                kfolds[i]['validationData'].append(self.GetImageNumpyArray(row['id']))\n",
    "                kfolds[i]['validationLabel'].append(int(row['label']))\n",
    "\n",
    "            kfolds[i]['validationData'] = (np.array(kfolds[i]['validationData'])).astype('float32')/255\n",
    "            kfolds[i]['validationLabel'] = np.array(kfolds[i]['validationLabel'])\n",
    "\n",
    "            del trainDf\n",
    "            del validationDf\n",
    "\n",
    "        del folds\n",
    "\n",
    "        return kfolds\n",
    "\n",
    "    def GetImageNumpyArray(self, imageFileName):\n",
    "        imgArray = cv2.imread(imageFileName)\n",
    "        imageFromArray = Image.fromarray(imgArray, 'RGB')\n",
    "        resizedImage = imageFromArray.resize((64, 64))\n",
    "        del imgArray\n",
    "        del imageFromArray\n",
    "        return np.array(resizedImage)\n",
    "\n",
    "    def GetAugFolds(self, batchSize, foldsCount):\n",
    "        folds = self.GetEqualDataFrameFolds(self.df, foldsCount)\n",
    "\n",
    "        train_datagen = ImageDataGenerator(rescale=1./255, \n",
    "                        shear_range=0.2, \n",
    "                        zoom_range=0.2, \n",
    "                        fill_mode='reflect',\n",
    "                        horizontal_flip=True)\n",
    "        \n",
    "        test_datagen = ImageDataGenerator(rescale=1./255)\n",
    "        validation_datagen = ImageDataGenerator(rescale=1./255)\n",
    "\n",
    "        kfolds = []\n",
    "        for i in range(0, foldsCount):\n",
    "            kfolds.append({ 'trainSize': 0, 'trainDataAug': None, 'testDataAug': None, 'validationDataAug': None })\n",
    "\n",
    "            trainDf = None\n",
    "            testDf = None\n",
    "            validationDf = folds[i]\n",
    "\n",
    "            for j in [x for x in range(0, foldsCount) if x!=i]:\n",
    "                if(trainDf is None):\n",
    "                    trainDf = folds[j]\n",
    "                else:\n",
    "                    trainDf = trainDf.append(folds[j])\n",
    "\n",
    "            trainFolds = self.GetEqualDataFrameFolds(trainDf, foldsCount)\n",
    "            \n",
    "            trainDf = None\n",
    "            testDf = trainFolds[0]\n",
    "            for x in range(1, len(trainFolds)):\n",
    "                if(trainDf is None):\n",
    "                    trainDf = trainFolds[x]\n",
    "                else:\n",
    "                    trainDf = trainDf.append(trainFolds[x])\n",
    "\n",
    "            kfolds[i]['trainDataAug'] = train_datagen.flow_from_dataframe(\n",
    "                                                trainDf, x_col='id', y_col='label', target_size=(64, 64), \n",
    "                                                batch_size=batchSize, class_mode='binary')\n",
    "\n",
    "            kfolds[i]['testDataAug'] = validation_datagen.flow_from_dataframe(\n",
    "                                                testDf, x_col='id', y_col='label', target_size=(64, 64), \n",
    "                                                batch_size=batchSize, class_mode='binary')\n",
    "\n",
    "            kfolds[i]['validationDataAug'] = test_datagen.flow_from_dataframe(\n",
    "                                                validationDf, x_col='id', y_col='label', target_size=(64, 64), \n",
    "                                                batch_size=batchSize, class_mode='binary')\n",
    "\n",
    "            kfolds[i]['trainSize'] = len(trainDf)\n",
    "            \n",
    "            del trainDf\n",
    "            del testDf\n",
    "            del validationDf\n",
    "\n",
    "        del folds\n",
    "        del train_datagen\n",
    "        del test_datagen\n",
    "        del validation_datagen\n",
    "\n",
    "        return kfolds"
   ]
  },
  {
   "cell_type": "markdown",
   "metadata": {
    "colab_type": "text",
    "id": "wMJTwurP5D8H"
   },
   "source": [
    "A segunda (e última) classe é a _Classifier_, utilizada para criação do modelo, treinamento e validação.\n",
    "<br>\n",
    "Valores específicos como parâmetros das _layers_ (ou até mesmo quais _layers_ utilizar) estão fixos nesta classe, mas foram obtidos após vários testes durante o projeto, mas de forma \"improvisada\"."
   ]
  },
  {
   "cell_type": "code",
   "execution_count": 0,
   "metadata": {
    "colab": {},
    "colab_type": "code",
    "id": "AQ7BY_5iQeWS"
   },
   "outputs": [],
   "source": [
    "class Classifier:\n",
    "    def __init__(self, batchSize):\n",
    "        self.batchSize = batchSize\n",
    "\n",
    "    def fitGenerator(self, epochs, folds):\n",
    "        os.environ['TF_CPP_MIN_LOG_LEVEL'] = '2'\n",
    "\n",
    "        clf = self.InitClassifier()\n",
    "\n",
    "        count = 1\n",
    "        k_train_accuracy = []\n",
    "        k_train_loss = []\n",
    "        k_test_loss = []\n",
    "        k_test_accuracy = []\n",
    "        k_acc_growth = []\n",
    "        k_val_acc_growth = []\n",
    "\n",
    "        for fold in folds:\n",
    "            score = clf.fit(x=fold['trainData'], y=fold['trainLabel'],\n",
    "                            batch_size=self.batchSize, epochs=epochs, \n",
    "                            shuffle=1, validation_split=0.2, verbose=0)\n",
    "            \n",
    "            if(count == 1):\n",
    "                k_acc_growth = score.history['acc']\n",
    "            else:\n",
    "                index = 0\n",
    "                for val in k_acc_growth:\n",
    "                    val = (val * count) + score.history['acc'][index]\n",
    "                    index += 1\n",
    "\n",
    "            if(count == 1):\n",
    "                k_val_acc_growth = score.history['val_acc']\n",
    "            else:\n",
    "                index = 0\n",
    "                for val in k_val_acc_growth:\n",
    "                    val = (val * count) + score.history['val_acc'][index]\n",
    "                    index += 1\n",
    "\n",
    "            k_train_accuracy.append(score.history['acc'][-1])\n",
    "            k_train_loss.append(score.history['loss'][-1])\n",
    "            \n",
    "            evaluate = clf.evaluate(x=fold['validationData'], y=fold['validationLabel'], batch_size=self.batchSize, verbose=0)\n",
    "\n",
    "            k_test_loss.append(evaluate[0])\n",
    "            k_test_accuracy.append(evaluate[1])\n",
    "\n",
    "            del score\n",
    "            del evaluate\n",
    "            count += 1\n",
    "\n",
    "        del count\n",
    "        del clf\n",
    "\n",
    "        result = {'train_loss': (np.array([loss for loss in k_train_loss])).mean(), \n",
    "                  'train_accuracy': (np.array([accuracy for accuracy in k_train_accuracy])).mean(),\n",
    "                  'test_loss': (np.array([accuracy for accuracy in k_test_loss])).mean(),\n",
    "                  'test_accuracy': (np.array([accuracy for accuracy in k_test_accuracy])).mean(),\n",
    "                  'train_growth_acc': k_acc_growth,\n",
    "                  'test_growth_acc': k_val_acc_growth}\n",
    "\n",
    "        del k_train_accuracy\n",
    "        del k_train_loss\n",
    "        del k_test_loss\n",
    "        del k_test_accuracy\n",
    "        del k_acc_growth\n",
    "        del k_val_acc_growth\n",
    "\n",
    "        return result\n",
    "\n",
    "    def fitAugGenerator(self, epochs, folds):\n",
    "        os.environ['TF_CPP_MIN_LOG_LEVEL'] = '2'\n",
    "\n",
    "        clf = self.InitClassifier()\n",
    "\n",
    "        count = 1\n",
    "        k_train_accuracy = []\n",
    "        k_train_loss = []\n",
    "        k_test_loss = []\n",
    "        k_test_accuracy = []\n",
    "        k_acc_growth = []\n",
    "        k_val_acc_growth = []\n",
    "\n",
    "        for fold in folds:\n",
    "            score = clf.fit_generator(\n",
    "                        fold['trainDataAug'], \n",
    "                        steps_per_epoch=(fold['trainSize']/self.batchSize),\n",
    "                        validation_steps=(fold['trainSize']/self.batchSize),\n",
    "                        validation_data=fold['testDataAug'], epochs=epochs, verbose=0)\n",
    "\n",
    "            if(count == 1):\n",
    "                k_acc_growth = score.history['acc']\n",
    "            else:\n",
    "                index = 0\n",
    "                for val in k_acc_growth:\n",
    "                    val = (val * count) + score.history['acc'][index]\n",
    "                    index += 1\n",
    "\n",
    "            if(count == 1):\n",
    "                k_val_acc_growth = score.history['val_acc']\n",
    "            else:\n",
    "                index = 0\n",
    "                for val in k_val_acc_growth:\n",
    "                    val = (val * count) + score.history['val_acc'][index]\n",
    "                    index += 1\n",
    "\n",
    "            k_train_accuracy.append(score.history['acc'][0])\n",
    "            k_train_loss.append(score.history['loss'][0])\n",
    "            \n",
    "            augEvaluate = clf.evaluate_generator(\n",
    "                        fold['validationDataAug'],\n",
    "                        steps=(fold['trainSize']/self.batchSize),\n",
    "                        verbose=0)\n",
    "\n",
    "            k_test_loss.append(augEvaluate[0])\n",
    "            k_test_accuracy.append(augEvaluate[1])\n",
    "\n",
    "            del score\n",
    "            del augEvaluate\n",
    "\n",
    "        del count\n",
    "        del clf\n",
    "\n",
    "        result = {'train_loss': (np.array([loss for loss in k_train_loss])).mean(), \n",
    "                  'train_accuracy': (np.array([accuracy for accuracy in k_train_accuracy])).mean(),\n",
    "                  'test_loss': (np.array([accuracy for accuracy in k_test_loss])).mean(),\n",
    "                  'test_accuracy': (np.array([accuracy for accuracy in k_test_accuracy])).mean(),\n",
    "                  'train_growth_acc': k_acc_growth,\n",
    "                  'test_growth_acc': k_val_acc_growth}\n",
    "\n",
    "        del k_train_accuracy\n",
    "        del k_train_loss\n",
    "        del k_test_loss\n",
    "        del k_test_accuracy\n",
    "        del k_acc_growth\n",
    "        del k_val_acc_growth\n",
    "\n",
    "        return result\n",
    "\n",
    "    def InitClassifier(self):\n",
    "        clf = Sequential()\n",
    "        clf.add(Convolution2D(32, (3, 3), input_shape = (64, 64, 3), activation = 'relu'))\n",
    "        clf.add(Convolution2D(32, (3, 3), activation = 'relu'))\n",
    "        clf.add(MaxPooling2D(pool_size = (2, 2)))\n",
    "        clf.add(Dropout(0.25))\n",
    "        clf.add(Convolution2D(64, (3, 3), activation = 'relu'))\n",
    "        clf.add(Convolution2D(64, (3, 3), activation = 'relu'))\n",
    "        clf.add(MaxPooling2D(pool_size = (2, 2)))\n",
    "        clf.add(Dropout(0.25))\n",
    "        clf.add(Flatten())\n",
    "        clf.add(Dense(128, kernel_initializer ='uniform', activation = 'relu'))\n",
    "        clf.add(Dropout(0.25))\n",
    "        clf.add(Dense(1, kernel_initializer ='uniform', activation = 'sigmoid'))\n",
    "        clf.compile(optimizer = 'adam', loss = 'binary_crossentropy', metrics = ['accuracy'])\n",
    "        return clf"
   ]
  },
  {
   "cell_type": "markdown",
   "metadata": {
    "colab_type": "text",
    "id": "IzLnzDuc5D8N"
   },
   "source": [
    "### Experimentos\n",
    "Tendo feito os _imports_, declarado as constantes e as classes, podem ser feito os experimentos. Todos os experimentos seguintes já possuem o seu resultado presente na **documentação que também foi enviada**; Neste _notebook_ pode não ter sido possível a execução completa de todos os dados por conta do tempo de execução elevado (uma vez que essa execução já tinha sido feita anteriormente fora do _notebook_ para gerar os dados para a documentação)\n",
    "\n",
    "#### 1) _Overfitting_ e quantidade de épocas\n",
    "Nesse primeiro momento foi necessário entender a quantidade de épocas mais adequada ao usar _Data Augmentation_ para evitar cenários de _overfitting_, por exemplo, além de definir um bom valor para os testes seguintes."
   ]
  },
  {
   "cell_type": "code",
   "execution_count": 0,
   "metadata": {
    "colab": {
     "base_uri": "https://localhost:8080/",
     "height": 289
    },
    "colab_type": "code",
    "id": "vHdNQl5Z6-at",
    "outputId": "3e212c1b-ad21-4bf7-a627-8e0ee92897a9"
   },
   "outputs": [
    {
     "name": "stdout",
     "output_type": "stream",
     "text": [
      "Dataframe filled with 530 images labelled as \"not_spam\" and 530 images labelled \"spam\"\n",
      "Found 678 validated image filenames belonging to 2 classes.\n",
      "Found 170 validated image filenames belonging to 2 classes.\n",
      "Found 212 validated image filenames belonging to 2 classes.\n",
      "Found 678 validated image filenames belonging to 2 classes.\n",
      "Found 170 validated image filenames belonging to 2 classes.\n",
      "Found 212 validated image filenames belonging to 2 classes.\n",
      "Found 678 validated image filenames belonging to 2 classes.\n",
      "Found 170 validated image filenames belonging to 2 classes.\n",
      "Found 212 validated image filenames belonging to 2 classes.\n",
      "Found 678 validated image filenames belonging to 2 classes.\n",
      "Found 170 validated image filenames belonging to 2 classes.\n",
      "Found 212 validated image filenames belonging to 2 classes.\n",
      "Found 678 validated image filenames belonging to 2 classes.\n",
      "Found 170 validated image filenames belonging to 2 classes.\n",
      "Found 212 validated image filenames belonging to 2 classes.\n"
     ]
    }
   ],
   "source": [
    "classifier = Classifier(BATCH_SIZE)\n",
    "dataset = DataSet(SPAM_FOLDER, NOT_SPAM_FOLDER, 1)\n",
    "\n",
    "augFolds = dataset.GetAugFolds(BATCH_SIZE, FOLDS_COUNT)\n",
    "\n",
    "results = { 'epochs': [], 'test_accuracy': [] }\n",
    "\n",
    "for epoch in EPOCHS:\n",
    "    augResult = classifier.fitAugGenerator(epoch, augFolds)\n",
    "    results['epochs'].append(epoch)\n",
    "    results['test_accuracy'].append(float(\"%.3f\" % float(augResult['test_accuracy'])))\n",
    "\n",
    "epochs = [int(e) for e in results['epochs']]     \n",
    "\n",
    "gs = gridspec.GridSpec(1, 1, figure=plt.figure(num=None, figsize=(8, 5)))\n",
    "ax = plt.subplot(gs[0])\n",
    "ax.title.set_text('Acurácia de acordo com o aumento de épocas')\n",
    "ax.grid(True)\n",
    "ax.set_xlabel('Épocas')\n",
    "ax.set_ylabel('Acurácia')\n",
    "ax.set_xticks([i for i in range(0,len(epochs))])\n",
    "ax.set_xticklabels(epochs)\n",
    "ax.plot(np.array([k for k in results['test_accuracy']]), label=\"Accuracy\")\n",
    "ax.legend()\n",
    "plt.show()"
   ]
  },
  {
   "cell_type": "markdown",
   "metadata": {
    "colab_type": "text",
    "id": "QIodL-FC5D8O"
   },
   "source": [
    "Podemos perceber que à partir de 40 épocas, o algoritmo tende a _overfitting_; uma vez que ele atinge seu melhor desempenho, tende cada vez mais a decorar os dados e generalizar de forma menos eficiente."
   ]
  },
  {
   "cell_type": "code",
   "execution_count": 0,
   "metadata": {
    "colab": {},
    "colab_type": "code",
    "id": "ExCUHIKi890k"
   },
   "outputs": [],
   "source": [
    "BEST_EPOCHS = 40"
   ]
  },
  {
   "cell_type": "markdown",
   "metadata": {
    "colab_type": "text",
    "id": "ciJuASJz87TE"
   },
   "source": [
    "#### 2) Comparativo do uso de _Data Augmentation_\n",
    "Este experimento buscava entender se era válido de fato o uso de _Data Augmentation_ para essa aplicação."
   ]
  },
  {
   "cell_type": "code",
   "execution_count": 8,
   "metadata": {
    "colab": {
     "base_uri": "https://localhost:8080/",
     "height": 553
    },
    "colab_type": "code",
    "id": "Muw5oDCz5D8Q",
    "outputId": "46f87f16-f29a-44fa-8424-1c30bbfe1d6e"
   },
   "outputs": [
    {
     "name": "stdout",
     "output_type": "stream",
     "text": [
      "Dataframe filled with 530 images labelled as \"not_spam\" and 530 images labelled \"spam\"\n",
      "Found 678 validated image filenames belonging to 2 classes.\n",
      "Found 170 validated image filenames belonging to 2 classes.\n",
      "Found 212 validated image filenames belonging to 2 classes.\n",
      "Found 678 validated image filenames belonging to 2 classes.\n",
      "Found 170 validated image filenames belonging to 2 classes.\n",
      "Found 212 validated image filenames belonging to 2 classes.\n",
      "Found 678 validated image filenames belonging to 2 classes.\n",
      "Found 170 validated image filenames belonging to 2 classes.\n",
      "Found 212 validated image filenames belonging to 2 classes.\n",
      "Found 678 validated image filenames belonging to 2 classes.\n",
      "Found 170 validated image filenames belonging to 2 classes.\n",
      "Found 212 validated image filenames belonging to 2 classes.\n",
      "Found 678 validated image filenames belonging to 2 classes.\n",
      "Found 170 validated image filenames belonging to 2 classes.\n",
      "Found 212 validated image filenames belonging to 2 classes.\n"
     ]
    },
    {
     "data": {
      "image/png": "[encoded data removed]",
      "text/plain": [
       "<Figure size 432x288 with 1 Axes>"
      ]
     },
     "metadata": {
      "tags": []
     },
     "output_type": "display_data"
    }
   ],
   "source": [
    "folds = dataset.GetFolds(FOLDS_COUNT)\n",
    "augFolds = dataset.GetAugFolds(BATCH_SIZE, FOLDS_COUNT)\n",
    "\n",
    "result = classifier.fitGenerator(BEST_EPOCHS, folds)\n",
    "augResult = classifier.fitAugGenerator(BEST_EPOCHS, augFolds)\n",
    "\n",
    "x = ['Train ACC', 'Test ACC', 'Train ACC - Aug', 'Test ACC - Aug']\n",
    "y_pos = np.arange(len(x))\n",
    "\n",
    "performance = [float(\"%.3f\" % float(result['train_accuracy'])), \n",
    "               float(\"%.3f\" % float(result['test_accuracy'])), \n",
    "               float(\"%.3f\" % float(augResult['train_accuracy'])), \n",
    "               float(\"%.3f\" % float(augResult['test_accuracy']))]\n",
    "\n",
    "plt.bar(y_pos, performance, align='center', alpha=0.5)\n",
    "plt.xticks(y_pos, x)\n",
    "plt.ylabel('Accuracy')\n",
    "plt.title('Data Augmentation Compare')\n",
    "plt.show()"
   ]
  },
  {
   "cell_type": "markdown",
   "metadata": {
    "colab_type": "text",
    "id": "H83gzGfg55tN"
   },
   "source": [
    "Podemos perceber que ao utilizar _Data Augmentation_, o modelo passa a generalizar melhor (o que faz sentido, afinal, pois ele possui uma quantidade mais vasta e variada de exemplos para poder generalizar) em comparação com o modelo que não utiliza _Data Augmentation_<br>\n",
    "#### 3) Proporção entre os exemplos disponíveis\n",
    "Outro experimento buscava entender a melhor proporção entre a quantidade de exemplos de cada uma das classes; O treinamento e predição da rede podem ser feito utilizando uma quantidade de exemplos de imagens categorizadas como _spam_\n",
    "igual à quantidade de imagens categorizadas como não-_spam_, entretanto, é sabido que isso não reflete a distribuição no mundo real; na realidade, dentre as imagens trafegadas em aplicativos de mensageria, apenas uma pequena parcela são parte desse grupo de _spams_. Para verificar a melhor proporção, foi fixada a quantidade de épocas (após o experimento anterior) para serem experimentados, alterando a proporção de dados entre uma classe e outra."
   ]
  },
  {
   "cell_type": "code",
   "execution_count": 19,
   "metadata": {
    "colab": {
     "base_uri": "https://localhost:8080/",
     "height": 553
    },
    "colab_type": "code",
    "id": "YR8y_sa-6Zyz",
    "outputId": "d685d3fb-e43f-4792-f7ed-43fdeabc8d69"
   },
   "outputs": [
    {
     "name": "stdout",
     "output_type": "stream",
     "text": [
      "Dataframe filled with 530 images labelled as \"not_spam\" and 530 images labelled \"spam\"\n",
      "Found 678 validated image filenames belonging to 2 classes.\n",
      "Found 170 validated image filenames belonging to 2 classes.\n",
      "Found 212 validated image filenames belonging to 2 classes.\n",
      "Found 678 validated image filenames belonging to 2 classes.\n",
      "Found 170 validated image filenames belonging to 2 classes.\n",
      "Found 212 validated image filenames belonging to 2 classes.\n",
      "Found 678 validated image filenames belonging to 2 classes.\n",
      "Found 170 validated image filenames belonging to 2 classes.\n",
      "Found 212 validated image filenames belonging to 2 classes.\n",
      "Found 678 validated image filenames belonging to 2 classes.\n",
      "Found 170 validated image filenames belonging to 2 classes.\n",
      "Found 212 validated image filenames belonging to 2 classes.\n",
      "Found 678 validated image filenames belonging to 2 classes.\n",
      "Found 170 validated image filenames belonging to 2 classes.\n",
      "Found 212 validated image filenames belonging to 2 classes.\n"
     ]
    },
    {
     "data": {
      "image/png": "[encoded data removed]",
      "text/plain": [
       "<Figure size 432x288 with 1 Axes>"
      ]
     },
     "metadata": {
      "tags": []
     },
     "output_type": "display_data"
    }
   ],
   "source": [
    "results = { 'proportion': [], 'test_accuracy': [] }\n",
    "\n",
    "for proportion in NOT_SPAM_PROPORTION:\n",
    "    dataset = DataSet(SPAM_FOLDER, NOT_SPAM_FOLDER, proportion)\n",
    "    augFolds = dataset.GetAugFolds(BATCH_SIZE, FOLDS_COUNT)\n",
    "    augResult = classifier.fitAugGenerator(BEST_EPOCHS, augFolds)\n",
    "    \n",
    "    results['proportion'].append(proportion)\n",
    "    results['test_accuracy'].append(float(\"%.3f\" % float(augResult['test_accuracy'])))\n",
    "\n",
    "proportions = [e for e in results['proportion']]\n",
    "\n",
    "y_pos = np.arange(len(proportions))\n",
    "performance = [e for e in results['test_accuracy']]\n",
    "\n",
    "plt.bar(y_pos, performance, align='center', alpha=0.5)\n",
    "plt.xticks(y_pos, proportions)\n",
    "plt.ylabel('Accuracy')\n",
    "plt.title('Not spam proportion')\n",
    "plt.show()"
   ]
  },
  {
   "cell_type": "markdown",
   "metadata": {
    "colab_type": "text",
    "id": "Aoj37Zzb_raz"
   },
   "source": [
    "Analisando os valores do gráfico podemos chegar a conclusão de que igualar a quantidade de imagens presente em ambos os grupos é a pior decisão, confirmando o conhecimento prévio de que, na realidade, a proporção entre esses grupos não é igual à 1. Podemos perceber que a proporção de duas imagens não-_spam_ para cada imagem _spam_ é a que se saí melhor nos testes."
   ]
  },
  {
   "cell_type": "code",
   "execution_count": 0,
   "metadata": {
    "colab": {},
    "colab_type": "code",
    "id": "M5HS4L9-Ae2b"
   },
   "outputs": [],
   "source": [
    "BEST_NOT_SPAM_PROPORTION = 2"
   ]
  },
  {
   "cell_type": "markdown",
   "metadata": {
    "colab_type": "text",
    "id": "B4BGOVUzAl2X"
   },
   "source": [
    "#### 4) Analisando o melhor caso\n",
    "Após os testes anteriores, foi feita uma verificação de como a acurácia em treino e em validação evoluem de acordo com as épocas."
   ]
  },
  {
   "cell_type": "code",
   "execution_count": 22,
   "metadata": {
    "colab": {
     "base_uri": "https://localhost:8080/",
     "height": 356
    },
    "colab_type": "code",
    "id": "6EcmzEE5_tJ-",
    "outputId": "76b64799-4c66-46d3-b445-8668596c7050"
   },
   "outputs": [
    {
     "data": {
      "text/plain": [
       "[<matplotlib.lines.Line2D at 0x7ffa9656a128>]"
      ]
     },
     "execution_count": 22,
     "metadata": {
      "tags": []
     },
     "output_type": "execute_result"
    },
    {
     "data": {
      "image/png": "[encoded data removed]",
      "text/plain": [
       "<Figure size 576x360 with 1 Axes>"
      ]
     },
     "metadata": {
      "tags": []
     },
     "output_type": "display_data"
    }
   ],
   "source": [
    "results = { 'epoch': [], 'train_growth_acc': [], 'test_growth_acc': [] }\n",
    "\n",
    "dataset = DataSet(SPAM_FOLDER, NOT_SPAM_FOLDER, BEST_NOT_SPAM_PROPORTION)\n",
    "augFolds = dataset.GetAugFolds(BATCH_SIZE, FOLDS_COUNT)\n",
    "augResult = classifier.fitAugGenerator(BEST_EPOCHS, augFolds)\n",
    "\n",
    "for i in range(1, 4):\n",
    "    results['epoch'].append(i)\n",
    "    results['test_growth_acc'].append(float(\"%.3f\" % float(augResult['test_growth_acc'][(i-1)])))\n",
    "    results['train_growth_acc'].append(float(\"%.3f\" % float(augResult['train_growth_acc'][(i-1)])))\n",
    "\n",
    "epochs = [e for e in results['epoch']]\n",
    "\n",
    "gs = gridspec.GridSpec(1, 1, figure=plt.figure(num=None, figsize=(8, 5)))\n",
    "ax = plt.subplot(gs[0])\n",
    "ax.grid(True)\n",
    "ax.set_xlabel('Épocas')\n",
    "ax.set_ylabel('Acurácia')\n",
    "ax.set_xticks([i for i in range(0,len(epochs))])\n",
    "ax.set_xticklabels(epochs)\n",
    "ax.plot(np.array([k for k in results['test_growth_acc']]), label=\"Test ACC\")\n",
    "ax.plot(np.array([k for k in results['train_growth_acc']]), label=\"Train ACC\")\n",
    "ax.legend()"
   ]
  },
  {
   "cell_type": "markdown",
   "metadata": {
    "colab_type": "text",
    "id": "11v0jQGHCnUB"
   },
   "source": [
    "### Conclusões\n",
    "Após os experimentos podemos concluir que um número pequeno de épocas naturalmente não é satisfatório, enquanto números maiores que 40 já não conseguem justificar o tempo a mais de treinamento; é possível afirmar que para esse modelo, 40 épocas é um valor satisfatório.<br><br>\n",
    "Ao mesmo tempo, podemos chegar à conclusão de que a proporção entre exemplos categorizados como _spam_ e exemplos categorizados como não-_spam_ são é também um fator importante para a classificação; uma quantidade igual de exemplos de ambas as classes não condiz com a realidade, e por isso não possui uma acurácia tão boa quanto por exemplo, casos onde a quantidade de imagens categorizadas como não-_spam_ correspondem ao dobro, triplo ou quádruplo da quantidade de imagens categorizadas como _spam_. \n",
    "<br>\n",
    "Nos experimentos realizados, a proporção de duas imagens categorizadas como não-_spam_ para cada imagem categorizada como _spam_ é o melhor caso. <br><br>\n",
    "Também pudemos perceber o ganho real ao utilizar _Data Augmentation_ para este tipo de aplicação, sendo possível obter boas taxas de acurácia mesmo tendo uma quantidade limitada de exemplos disponíveis."
   ]
  }
 ],
 "metadata": {
  "accelerator": "GPU",
  "colab": {
   "collapsed_sections": [],
   "name": "RafaelTorresSouza_ML_FinalProject.ipynb",
   "provenance": [],
   "version": "0.3.2"
  },
  "kernelspec": {
   "display_name": "Python 3",
   "language": "python",
   "name": "python3"
  },
  "language_info": {
   "codemirror_mode": {
    "name": "ipython",
    "version": 3
   },
   "file_extension": ".py",
   "mimetype": "text/x-python",
   "name": "python",
   "nbconvert_exporter": "python",
   "pygments_lexer": "ipython3",
   "version": "3.7.3"
  }
 },
 "nbformat": 4,
 "nbformat_minor": 1
}
